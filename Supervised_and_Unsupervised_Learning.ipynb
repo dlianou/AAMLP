{
 "metadata": {
  "language_info": {
   "codemirror_mode": {
    "name": "ipython",
    "version": 3
   },
   "file_extension": ".py",
   "mimetype": "text/x-python",
   "name": "python",
   "nbconvert_exporter": "python",
   "pygments_lexer": "ipython3",
   "version": "3.7.6-final"
  },
  "orig_nbformat": 2,
  "kernelspec": {
   "name": "Python 3.7.6 64-bit ('ml': conda)",
   "display_name": "Python 3.7.6 64-bit ('ml': conda)",
   "metadata": {
    "interpreter": {
     "hash": "4db4f09d72cb3c702ab3848354cb0478d23b4bad1236c2b38a55a5f0e945c470"
    }
   }
  }
 },
 "nbformat": 4,
 "nbformat_minor": 2,
 "cells": [
  {
   "cell_type": "code",
   "execution_count": null,
   "metadata": {},
   "outputs": [],
   "source": [
    "## Setting up my workstation and working environment (virtual)**\n",
    "# Recall an Environment consists of: (1) Interpreter: Python Version AND (2) Number of packages or libraries\n",
    "\n",
    "# From the conda terminal OR python terminal\n",
    "# check conda environments and create one called ml\n",
    "#conda info --envs\n",
    "#conda create -n ml python=3.7.6\n",
    "#conda activate ml\n",
    "\n",
    "# Next, from the conda terminal, install all the required packages\n",
    "# conda install matplotlib\n"
   ]
  },
  {
   "cell_type": "code",
   "execution_count": null,
   "metadata": {},
   "outputs": [],
   "source": [
    "import matplotlib.pyplot as plt\n",
    "import numpy as np\n",
    "import pandas as pd\n",
    "import seaborn as sns\n",
    "\n",
    "from sklearn import datasets\n",
    "from sklearn import manifold"
   ]
  },
  {
   "cell_type": "code",
   "execution_count": null,
   "metadata": {},
   "outputs": [],
   "source": [
    "# Fetch the data using sklearn datasets\n",
    "data = datasets.fetch_openml(\n",
    "                    'mnist_784',\n",
    "                    version=1,\n",
    "                    return_X_y=True\n",
    ")\n",
    "pixel_values, targets = data\n",
    "# Convert target variable from string to integer\n",
    "targets = targets.astype(int)"
   ]
  },
  {
   "cell_type": "code",
   "execution_count": null,
   "metadata": {},
   "outputs": [],
   "source": [
    "# Vsialize sample of pixel_values dataset by reshaping to original size and plotting using matplotlib\n",
    "single_image = pixel_values[1,:].reshape(28,28)\n",
    "plt.imshow(single_image, cmap='gray')"
   ]
  },
  {
   "cell_type": "code",
   "execution_count": null,
   "metadata": {},
   "outputs": [],
   "source": [
    "# Create the t-SNE transformation of the data with 2 components\n",
    "\n",
    "tsne = manifold.TSNE(n_components=2, random_state=42)\n",
    "transformed_data = tsne.fit_transform(pixel_values[:3000,:])\n",
    "\n",
    "# Convert to a DataFrame from a numpu array\n",
    "tsne_df = pd.DataFrame(\n",
    "    np.column_stack((transformed_data, targets[:3000])), # stacks columns into a 2D array\n",
    "    columns=[\"x\",\"y\", \"targets\"]\n",
    ")\n",
    "\n",
    "tsne_df.loc[:, \"targets\"] = tsne_df.targets.astype(int) # convert to integer\n",
    "\n"
   ]
  },
  {
   "cell_type": "code",
   "execution_count": null,
   "metadata": {},
   "outputs": [],
   "source": [
    "tsne_df.head(n=10) # show the first 10 rows\n",
    "\n",
    "#plot using seaborn and matplotlib library\n",
    "grid = sns.FacetGrid(tsne_df, hue=\"targets\", size=8)\n",
    "grid.map(plt.scatter, \"x\", \"y\").add_legend"
   ]
  },
  {
   "cell_type": "code",
   "execution_count": null,
   "metadata": {},
   "outputs": [],
   "source": [
    "\n"
   ]
  }
 ]
}